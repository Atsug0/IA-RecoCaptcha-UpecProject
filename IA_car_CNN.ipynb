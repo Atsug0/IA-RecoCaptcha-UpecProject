{
 "cells": [
  {
   "cell_type": "markdown",
   "metadata": {
    "id": "uPp7XoeSzdDv"
   },
   "source": [
    "# P1"
   ]
  },
  {
   "cell_type": "code",
   "execution_count": 7,
   "metadata": {
    "executionInfo": {
     "elapsed": 200,
     "status": "ok",
     "timestamp": 1733502012220,
     "user": {
      "displayName": "Wassim Mussard",
      "userId": "13687154567625995360"
     },
     "user_tz": -60
    },
    "id": "EX7HIUZVzdDy"
   },
   "outputs": [
    {
     "ename": "ModuleNotFoundError",
     "evalue": "No module named 'numpy'",
     "output_type": "error",
     "traceback": [
      "\u001b[0;31m---------------------------------------------------------------------------\u001b[0m",
      "\u001b[0;31mModuleNotFoundError\u001b[0m                       Traceback (most recent call last)",
      "Cell \u001b[0;32mIn[7], line 1\u001b[0m\n\u001b[0;32m----> 1\u001b[0m \u001b[38;5;28;01mimport\u001b[39;00m \u001b[38;5;21;01mnumpy\u001b[39;00m \u001b[38;5;28;01mas\u001b[39;00m \u001b[38;5;21;01mnp\u001b[39;00m\n\u001b[1;32m      2\u001b[0m \u001b[38;5;28;01mimport\u001b[39;00m \u001b[38;5;21;01mkeras\u001b[39;00m\n\u001b[1;32m      3\u001b[0m \u001b[38;5;28;01mimport\u001b[39;00m \u001b[38;5;21;01mtime\u001b[39;00m\n",
      "\u001b[0;31mModuleNotFoundError\u001b[0m: No module named 'numpy'"
     ]
    }
   ],
   "source": [
    "import numpy as np\n",
    "import keras\n",
    "import time\n",
    "import os\n",
    "import cv2\n",
    "import math\n",
    "from keras import backend as k\n",
    "from keras.models import Sequential\n",
    "from keras.layers import Activation\n",
    "#from keras.layers import Dense, Flatten, Dropout #type de couches\n",
    "from keras.layers import Dense, Flatten, Dropout #type de couches\n",
    "from keras.layers import Conv2D, MaxPooling2D\n",
    "#from keras.layers import BatchNormalization\n",
    "from keras.layers import BatchNormalization\n",
    "#from tensorflow.keras.optimizers import Adam\n",
    "from keras.optimizers import Adam\n",
    "from keras.metrics import binary_crossentropy\n",
    "from tensorflow.keras.preprocessing.image import ImageDataGenerator\n",
    "from matplotlib import pyplot as plt"
   ]
  },
  {
   "cell_type": "code",
   "execution_count": null,
   "metadata": {
    "colab": {
     "base_uri": "https://localhost:8080/"
    },
    "executionInfo": {
     "elapsed": 1625,
     "status": "ok",
     "timestamp": 1733498944831,
     "user": {
      "displayName": "Wassim Mussard",
      "userId": "13687154567625995360"
     },
     "user_tz": -60
    },
    "id": "jSOQoapRGQKt",
    "outputId": "42b753c5-6622-4bad-b9f7-bf017f8b9bf3"
   },
   "outputs": [],
   "source": [
    "from google.colab import drive\n",
    "drive.mount('/content/drive')\n"
   ]
  },
  {
   "cell_type": "markdown",
   "metadata": {
    "id": "RlkEWF42zdD1"
   },
   "source": [
    "# P2"
   ]
  },
  {
   "cell_type": "code",
   "execution_count": null,
   "metadata": {
    "colab": {
     "base_uri": "https://localhost:8080/"
    },
    "executionInfo": {
     "elapsed": 200,
     "status": "ok",
     "timestamp": 1733502014853,
     "user": {
      "displayName": "Wassim Mussard",
      "userId": "13687154567625995360"
     },
     "user_tz": -60
    },
    "id": "Ti2bSMXHzdD2",
    "outputId": "fd1d78c7-55d1-4fb4-d171-c3a0cbae6940"
   },
   "outputs": [],
   "source": [
    "from tensorflow.keras.preprocessing.image import ImageDataGenerator\n",
    "\n",
    "train_path = 'data/train/'\n",
    "valid_path = 'data/valid/'\n",
    "\n",
    "batch_size = 32\n",
    "\n",
    "# Création des générateurs avec augmentation de données pour l'entraînement\n",
    "\n",
    "train_datagen = ImageDataGenerator(\n",
    "    rescale=1.0 / 255,        # Normalisation\n",
    "    rotation_range=20,        # Rotation aléatoire\n",
    "    width_shift_range=0.2,    # Décalage horizontal\n",
    "    height_shift_range=0.2,   # Décalage vertical\n",
    "    shear_range=0.2,          # Transformation en cisaillement\n",
    "    zoom_range=0.2,           # Zoom aléatoire\n",
    "    horizontal_flip=True      # Inversion horizontale\n",
    ")\n",
    "\n",
    "\n",
    "# Générateur de validation avec uniquement une normalisation\n",
    "valid_datagen = ImageDataGenerator(\n",
    "    rescale=1.0/255.0  # Normalisation sans augmentation de données\n",
    ")\n",
    "\n",
    "# Chargement des images augmentées pour l'entraînement\n",
    "train_batches = train_datagen.flow_from_directory(\n",
    "    train_path,\n",
    "    target_size=(100, 100),\n",
    "    batch_size=batch_size,\n",
    "    class_mode='binary'  # Binaire : car / not_car\n",
    ")\n",
    "\n",
    "# Chargement des images de validation\n",
    "valid_batches = valid_datagen.flow_from_directory(\n",
    "    valid_path,\n",
    "    target_size=(100, 100),\n",
    "    batch_size=batch_size,\n",
    "    class_mode='binary'\n",
    ")\n",
    "\n",
    "# Vérification des indices de classe\n",
    "print(train_batches.class_indices)  # Devrait afficher {'car': 0, 'not_car': 1} ou l'inverse\n"
   ]
  },
  {
   "cell_type": "code",
   "execution_count": null,
   "metadata": {
    "executionInfo": {
     "elapsed": 190,
     "status": "ok",
     "timestamp": 1733502017406,
     "user": {
      "displayName": "Wassim Mussard",
      "userId": "13687154567625995360"
     },
     "user_tz": -60
    },
    "id": "IBX2t3E2zdD3"
   },
   "outputs": [],
   "source": [
    "steps_train = train_batches.samples // train_batches.batch_size"
   ]
  },
  {
   "cell_type": "code",
   "execution_count": null,
   "metadata": {
    "colab": {
     "base_uri": "https://localhost:8080/"
    },
    "executionInfo": {
     "elapsed": 1154,
     "status": "ok",
     "timestamp": 1733502019821,
     "user": {
      "displayName": "Wassim Mussard",
      "userId": "13687154567625995360"
     },
     "user_tz": -60
    },
    "id": "7FpnZxkuKvcZ",
    "outputId": "177d7c72-a854-4e78-bedc-be7809fcbbc8"
   },
   "outputs": [],
   "source": [
    "for batch in train_batches:\n",
    "    print(batch[0].shape)  # Affichez la taille des images dans le batch\n",
    "    break  # Pour afficher seulement un batch\n"
   ]
  },
  {
   "cell_type": "code",
   "execution_count": null,
   "metadata": {
    "executionInfo": {
     "elapsed": 201,
     "status": "ok",
     "timestamp": 1733502020949,
     "user": {
      "displayName": "Wassim Mussard",
      "userId": "13687154567625995360"
     },
     "user_tz": -60
    },
    "id": "9ZsTRXTEzdD3"
   },
   "outputs": [],
   "source": [
    "steps_valid = valid_batches.samples // valid_batches.batch_size"
   ]
  },
  {
   "cell_type": "code",
   "execution_count": null,
   "metadata": {
    "colab": {
     "base_uri": "https://localhost:8080/"
    },
    "executionInfo": {
     "elapsed": 276,
     "status": "ok",
     "timestamp": 1733502022217,
     "user": {
      "displayName": "Wassim Mussard",
      "userId": "13687154567625995360"
     },
     "user_tz": -60
    },
    "id": "fvunDfTMzdD4",
    "outputId": "b0f38ac7-c25f-4a48-b740-007e94cafc7e"
   },
   "outputs": [],
   "source": [
    "num_classes = train_batches.num_classes\n",
    "num_classes"
   ]
  },
  {
   "cell_type": "code",
   "execution_count": null,
   "metadata": {
    "colab": {
     "base_uri": "https://localhost:8080/"
    },
    "executionInfo": {
     "elapsed": 369,
     "status": "ok",
     "timestamp": 1733502025440,
     "user": {
      "displayName": "Wassim Mussard",
      "userId": "13687154567625995360"
     },
     "user_tz": -60
    },
    "id": "GKOxUyfozdD4",
    "outputId": "2023ed54-3691-46ca-d841-a1b240a70db6"
   },
   "outputs": [],
   "source": [
    "cls_train = train_batches.classes\n",
    "cls_test =  valid_batches.classes\n",
    "class_names = list(train_batches.class_indices.keys())\n",
    "class_names"
   ]
  },
  {
   "cell_type": "code",
   "execution_count": null,
   "metadata": {
    "colab": {
     "base_uri": "https://localhost:8080/"
    },
    "executionInfo": {
     "elapsed": 2,
     "status": "ok",
     "timestamp": 1733502025440,
     "user": {
      "displayName": "Wassim Mussard",
      "userId": "13687154567625995360"
     },
     "user_tz": -60
    },
    "id": "7mXf8ya7YDdx",
    "outputId": "1458668c-38c1-45c2-aa30-371a5428c238"
   },
   "outputs": [],
   "source": [
    "print(f\"Nombre total d'images dans le train set : {train_batches.samples}\")\n",
    "print(f\"Nombre total d'images dans le valid set : {valid_batches.samples}\")\n"
   ]
  },
  {
   "cell_type": "code",
   "execution_count": null,
   "metadata": {
    "executionInfo": {
     "elapsed": 251,
     "status": "ok",
     "timestamp": 1733502027189,
     "user": {
      "displayName": "Wassim Mussard",
      "userId": "13687154567625995360"
     },
     "user_tz": -60
    },
    "id": "latWVMtTzdD5"
   },
   "outputs": [],
   "source": [
    "def path_join(dirname, filenames):\n",
    "    return [os.path.join(dirname, filename) for filename in filenames]\n",
    "image_paths_train = path_join(train_path, train_batches.filenames)\n",
    "image_paths_test = path_join(valid_path, valid_batches.filenames)\n",
    "\n",
    "def plot_images(images, cls_true, cls_pred=None, smooth=True):\n",
    "    assert len(images) == len(cls_true)\n",
    "\n",
    "    # Create figure with sub-plots.\n",
    "    fig, axes = plt.subplots(3, 3)\n",
    "\n",
    "    # Adjust vertical spacing.\n",
    "    if cls_pred is None:\n",
    "        hspace = 0.3\n",
    "    else:\n",
    "        hspace = 0.6\n",
    "    fig.subplots_adjust(hspace=hspace, wspace=0.3)\n",
    "\n",
    "    # Interpolation type.\n",
    "    if smooth:\n",
    "        interpolation = 'spline16'\n",
    "    else:\n",
    "        interpolation = 'nearest'\n",
    "\n",
    "    for i, ax in enumerate(axes.flat):\n",
    "        # There may be less than 9 images, ensure it doesn't crash.\n",
    "        if i < len(images):\n",
    "            # Plot image.\n",
    "            ax.imshow(images[i],\n",
    "                      interpolation=interpolation)\n",
    "\n",
    "            # Name of the true class.\n",
    "            cls_true_name = class_names[cls_true[i]]\n",
    "\n",
    "            # Show true and predicted classes.\n",
    "            if cls_pred is None:\n",
    "                xlabel = \"True: {0}\".format(cls_true_name)\n",
    "            else:\n",
    "                # Name of the predicted class.\n",
    "                cls_pred_name = class_names[cls_pred[i]]\n",
    "                xlabel = \"True: {0}\\nPred: {1}\".format(cls_true_name, cls_pred_name)\n",
    "            # Show the classes as the label on the x-axis.\n",
    "            ax.set_xlabel(xlabel)\n",
    "        # Remove ticks from the plot.\n",
    "        ax.set_xticks([])\n",
    "        ax.set_yticks([])\n",
    "\n",
    "    # Ensure the plot is shown correctly with multiple plots\n",
    "    # in a single Notebook cell.\n",
    "    plt.show()\n",
    "\n",
    "def load_images(image_paths):\n",
    "    # Load the images from disk.\n",
    "    images = [plt.imread(path) for path in image_paths]\n",
    "    # Convert to a numpy array and return it.\n",
    "    return np.asarray(images)"
   ]
  },
  {
   "cell_type": "code",
   "execution_count": null,
   "metadata": {
    "colab": {
     "base_uri": "https://localhost:8080/",
     "height": 426
    },
    "executionInfo": {
     "elapsed": 2148,
     "status": "ok",
     "timestamp": 1733502030834,
     "user": {
      "displayName": "Wassim Mussard",
      "userId": "13687154567625995360"
     },
     "user_tz": -60
    },
    "id": "i-PxL6zPzdD6",
    "outputId": "ee0243d4-e6f9-4d13-db23-7b9e1b698df9"
   },
   "outputs": [],
   "source": [
    "# Load the first images from the train-set.\n",
    "images = load_images(image_paths=image_paths_train[0:9])\n",
    "# Get the true classes for those images.\n",
    "cls_true = cls_train[0:9]\n",
    "# Plot the images and labels using our helper-function above.\n",
    "plot_images(images=images, cls_true=cls_true, smooth=True)"
   ]
  },
  {
   "cell_type": "markdown",
   "metadata": {
    "id": "CO0sezR8zdD6"
   },
   "source": [
    "# P3"
   ]
  },
  {
   "cell_type": "code",
   "execution_count": null,
   "metadata": {
    "colab": {
     "base_uri": "https://localhost:8080/",
     "height": 440
    },
    "executionInfo": {
     "elapsed": 201,
     "status": "ok",
     "timestamp": 1733503073321,
     "user": {
      "displayName": "Wassim Mussard",
      "userId": "13687154567625995360"
     },
     "user_tz": -60
    },
    "id": "INFz5d9FzdD7",
    "outputId": "f1798415-9eb8-46a0-c141-6207d3d32247"
   },
   "outputs": [],
   "source": [
    "from tensorflow.keras.models import Sequential\n",
    "from tensorflow.keras.layers import Conv2D, MaxPooling2D, Flatten, Dense, Dropout\n",
    "\n",
    "# Définition d'un modèle CNN simple\n",
    "model = Sequential([\n",
    "    Conv2D(32, (3, 3), activation='relu', input_shape=(100, 100, 3)),\n",
    "    MaxPooling2D(2, 2),\n",
    "\n",
    "    Conv2D(64, (3, 3), activation='relu'),\n",
    "    MaxPooling2D(2, 2),\n",
    "\n",
    "    Flatten(),\n",
    "    Dense(128, activation='relu'),\n",
    "    Dropout(0.5),\n",
    "    Dense(1, activation='sigmoid')  # Sortie binaire\n",
    "])\n",
    "\n",
    "# Compilation du modèle\n",
    "model.compile(optimizer=Adam(learning_rate=1e-4), loss='binary_crossentropy', metrics=['accuracy'])\n",
    "\n",
    "# Résumé du modèle\n",
    "model.summary()\n"
   ]
  },
  {
   "cell_type": "markdown",
   "metadata": {
    "id": "bRU8IxJPzdD7"
   },
   "source": [
    "# P4"
   ]
  },
  {
   "cell_type": "code",
   "execution_count": null,
   "metadata": {
    "id": "JNCUe-oOzdD8"
   },
   "outputs": [],
   "source": [
    "# model.add(Dense(1, activation='sigmoid'))\n",
    "# model.compile(optimizer='adam', loss='binary_crossentropy', metrics=['accuracy'])\n"
   ]
  },
  {
   "cell_type": "code",
   "execution_count": null,
   "metadata": {
    "colab": {
     "base_uri": "https://localhost:8080/",
     "height": 1000
    },
    "executionInfo": {
     "elapsed": 832960,
     "status": "ok",
     "timestamp": 1733503945702,
     "user": {
      "displayName": "Wassim Mussard",
      "userId": "13687154567625995360"
     },
     "user_tz": -60
    },
    "id": "juPKxdqezdD8",
    "outputId": "b1ddbece-5024-40a9-a5eb-286b95b33f2e"
   },
   "outputs": [],
   "source": [
    "from keras.callbacks import EarlyStopping, ReduceLROnPlateau\n",
    "\n",
    "\n",
    "# Callbacks\n",
    "\n",
    "start = time.time()\n",
    "\n",
    "import matplotlib.pyplot as plt\n",
    "\n",
    "history = model.fit(train_batches, validation_data=valid_batches, epochs=100, verbose=1)\n",
    "\n",
    "# Tracer les courbes d'entraînement et de validation\n",
    "plt.plot(history.history['accuracy'], label='Training Accuracy')\n",
    "plt.plot(history.history['val_accuracy'], label='Validation Accuracy')\n",
    "plt.legend()\n",
    "plt.show()\n",
    "\n",
    "plt.plot(history.history['loss'], label='Training Loss')\n",
    "plt.plot(history.history['val_loss'], label='Validation Loss')\n",
    "plt.legend()\n",
    "plt.show()\n",
    "\n",
    "\n",
    "end = time.time()\n",
    "\n",
    "print(f\"Le modèle a été entraîné en {end - start:.2f} secondes.\")"
   ]
  },
  {
   "cell_type": "code",
   "execution_count": null,
   "metadata": {
    "id": "RAJFYBKPzdD8"
   },
   "outputs": [],
   "source": [
    "end = time.time()"
   ]
  },
  {
   "cell_type": "code",
   "execution_count": null,
   "metadata": {
    "colab": {
     "base_uri": "https://localhost:8080/"
    },
    "executionInfo": {
     "elapsed": 1327,
     "status": "ok",
     "timestamp": 1733504393396,
     "user": {
      "displayName": "Wassim Mussard",
      "userId": "13687154567625995360"
     },
     "user_tz": -60
    },
    "id": "XehtObKFzdD9",
    "outputId": "26c11f3f-65d4-41ed-99b2-76e621075596"
   },
   "outputs": [],
   "source": [
    "print (\"Model took %0.2f seconds to train\"%(end - start))\n",
    "result = model.evaluate(valid_batches, steps=1)\n",
    "print(\"Test-set classification accuracy: {0:.2%}\".format(result[1]))"
   ]
  },
  {
   "cell_type": "markdown",
   "metadata": {
    "id": "Wd3v48PGzdD9"
   },
   "source": [
    "# P5"
   ]
  },
  {
   "cell_type": "code",
   "execution_count": null,
   "metadata": {
    "colab": {
     "base_uri": "https://localhost:8080/",
     "height": 487
    },
    "executionInfo": {
     "elapsed": 1240,
     "status": "ok",
     "timestamp": 1733504401819,
     "user": {
      "displayName": "Wassim Mussard",
      "userId": "13687154567625995360"
     },
     "user_tz": -60
    },
    "id": "m9e8XbygzdD9",
    "outputId": "0c5186bd-e0b8-4f53-99ce-be6ab3476340"
   },
   "outputs": [],
   "source": [
    "def plot_model_history(model_history):\n",
    "    fig, axs = plt.subplots(1,2,figsize=(15,5))\n",
    "    # summarize history for accuracy\n",
    "    axs[0].plot(range(1,len(model_history.history['accuracy'])+1),model_history.history['accuracy'])\n",
    "    axs[0].plot(range(1,len(model_history.history['val_accuracy'])+1),model_history.history['val_accuracy'])\n",
    "    axs[0].set_title('Model Accuracy')\n",
    "    axs[0].set_ylabel('Accuracy')\n",
    "    axs[0].set_xlabel('Epoch')\n",
    "    #axs[0].set_xticks(np.arange(1,len(model_history.history['accuracy'])+1),len(model_history.history['accuracy'])/10)\n",
    "    axs[0].legend(['train', 'val'], loc='best')\n",
    "    # summarize history for loss\n",
    "    axs[1].plot(range(1,len(model_history.history['loss'])+1),model_history.history['loss'])\n",
    "    axs[1].plot(range(1,len(model_history.history['val_loss'])+1),model_history.history['val_loss'])\n",
    "    axs[1].set_title('Model Loss')\n",
    "    axs[1].set_ylabel('Loss')\n",
    "    axs[1].set_xlabel('Epoch')\n",
    "    #axs[1].set_xticks(np.arange(1,len(model_history.history['loss'])+1),len(model_history.history['loss'])/10)\n",
    "    axs[1].legend(['train', 'val'], loc='best')\n",
    "    plt.show()\n",
    "\n",
    "plot_model_history(history)"
   ]
  },
  {
   "cell_type": "markdown",
   "metadata": {
    "id": "6HYuaYXAzdD9"
   },
   "source": [
    "# P6"
   ]
  },
  {
   "cell_type": "code",
   "execution_count": null,
   "metadata": {
    "colab": {
     "base_uri": "https://localhost:8080/",
     "height": 1000,
     "output_embedded_package_id": "1T9ubkTH6Ef31ggDbiA1a38I_VdE-hxmw"
    },
    "executionInfo": {
     "elapsed": 8200,
     "status": "ok",
     "timestamp": 1733504418403,
     "user": {
      "displayName": "Wassim Mussard",
      "userId": "13687154567625995360"
     },
     "user_tz": -60
    },
    "id": "It-bLzrEzdD-",
    "outputId": "5c0b574b-f17f-4e15-ff35-13a715708152"
   },
   "outputs": [],
   "source": [
    "import cv2\n",
    "import matplotlib.pyplot as plt\n",
    "import numpy as np\n",
    "import glob  # Pour récupérer plusieurs fichiers à partir de dossiers\n",
    "\n",
    "# Définir les chemins des images\n",
    "car_images = glob.glob('data/valid/car/*')\n",
    "not_car_images = glob.glob('data/valid/not_car/*')\n",
    "\n",
    "# Sélectionner 10 images aléatoires de chaque classe\n",
    "np.random.seed(42)  # Fixer la seed pour des tests reproductibles\n",
    "selected_car_images = np.random.choice(car_images, 10, replace=False)\n",
    "selected_not_car_images = np.random.choice(not_car_images, 10, replace=False)\n",
    "\n",
    "# Combiner les chemins pour itérer\n",
    "test_images = list(selected_car_images) + list(selected_not_car_images)\n",
    "labels = ['car'] * 10 + ['not_car'] * 10  # Etiquettes pour les résultats attendus\n",
    "\n",
    "# Fonction pour prédire et afficher les résultats\n",
    "def predict_and_display(images, labels):\n",
    "    for i, (img_path, label) in enumerate(zip(images, labels)):\n",
    "        # Lire et préparer l'image\n",
    "        img = cv2.imread(img_path)\n",
    "        img_resized = cv2.resize(img, (100, 100))\n",
    "        img_normalized = img_resized / 255.0  # Normalisation\n",
    "        img_input = np.reshape(img_normalized, [1, 100, 100, 3])  # Ajouter la dimension batch\n",
    "\n",
    "        # Prédire avec le modèle\n",
    "        predic = model.predict(img_input)\n",
    "\n",
    "        # Afficher l'image\n",
    "        plt.figure(figsize=(3, 3))\n",
    "        plt.imshow(cv2.cvtColor(img, cv2.COLOR_BGR2RGB))  # Convertir de BGR à RGB pour matplotlib\n",
    "        plt.xticks([]), plt.yticks([])  # Supprimer les ticks de l'axe\n",
    "        plt.title(f\"Vraie classe : {label}\")\n",
    "        plt.show()\n",
    "\n",
    "        # Afficher le résultat de la prédiction\n",
    "        if predic[0][0] > 0.5:\n",
    "            print(f\"Prédiction : Ce n'est pas une voiture avec {predic[0][0] * 100:.2f}% de confiance\")\n",
    "        else:\n",
    "            print(f\"Prédiction : C'est une voiture avec {(1 - predic[0][0]) * 100:.2f}% de confiance\")\n",
    "\n",
    "# Tester le modèle sur les images sélectionnées\n",
    "predict_and_display(test_images, labels)\n"
   ]
  },
  {
   "cell_type": "code",
   "execution_count": null,
   "metadata": {
    "id": "oQ74ibZEzdD-"
   },
   "outputs": [],
   "source": []
  }
 ],
 "metadata": {
  "colab": {
   "provenance": []
  },
  "kernelspec": {
   "display_name": "Python 3",
   "language": "python",
   "name": "python3"
  },
  "language_info": {
   "codemirror_mode": {
    "name": "ipython",
    "version": 3
   },
   "file_extension": ".py",
   "mimetype": "text/x-python",
   "name": "python",
   "nbconvert_exporter": "python",
   "pygments_lexer": "ipython3",
   "version": "3.12.0"
  }
 },
 "nbformat": 4,
 "nbformat_minor": 0
}
